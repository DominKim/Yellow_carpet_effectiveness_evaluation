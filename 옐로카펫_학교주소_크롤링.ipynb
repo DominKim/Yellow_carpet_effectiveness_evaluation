{
 "cells": [
  {
   "cell_type": "code",
   "execution_count": 5,
   "metadata": {},
   "outputs": [],
   "source": [
    "import pandas as pd\n",
    "from selenium.webdriver import Chrome\n",
    "import time\n",
    "import sqlite3\n",
    "from pandas.io import sql\n",
    "import pandas as pd\n",
    "import time\n",
    "import re\n",
    "\n",
    "from selenium import webdriver\n",
    "\n",
    "\n",
    "# # excel 파일 불러오기\n",
    "# df = pd.read_csv(\"./어린이보호구역_최종.csv\", encoding= \"euc-kr\")\n",
    "\n",
    "# # (A)등 제거\n",
    "\n",
    "# 크롤링 시작\n",
    "driver = webdriver.Chrome(\n",
    "    executable_path=\"C:/crawling/chromedriver.exe\")\n",
    "url = \"https://bigdata.incheon.go.kr/login.do\"\n",
    "\n",
    "driver.get(url)\n",
    "\n",
    "# # 검색 전에 필수 실행 필요 : 없을시 오류 발생\n",
    "# driver.find_element_by_css_selector('.layer_body').click()\n",
    "\n",
    "\n",
    "# dong_address = []\n",
    "# for idx in range(len(df)):\n",
    "#     name = df.loc[idx, \"소재지도로명주소\"]\n",
    "#     driver.find_element_by_css_selector('#search\\.keyword\\.query').send_keys(name)\n",
    "#     driver.find_element_by_id('search.keyword.submit').click()\n",
    "    \n",
    "#     time.sleep(3)\n",
    "\n",
    "#     dong = re.findall(\"[가-힣0]{1,}동\", name)\n",
    "#     dong_address.append(dong)\n",
    "#     time.sleep(3)\n",
    "#     driver.find_element_by_xpath('//*[@id=\"info.main.header.clear\"]').click()\n",
    "    \n",
    "    \n",
    "# # df_seoul.to_csv(\"멋쟁이재민씨.csv\", encoding = \"euc-kr\")"
   ]
  },
  {
   "cell_type": "code",
   "execution_count": null,
   "metadata": {},
   "outputs": [],
   "source": [
    "# 검색 전에 필수 실행 필요 : 없을시 오류 발생\n",
    "driver.find_element_by_css_selector('.layer_body').click()\n",
    "\n",
    "\n",
    "dong_address = []\n",
    "for idx in range(len(df)):\n",
    "    name = df.loc[idx, \"소재지도로명주소\"]\n",
    "    driver.find_element_by_css_selector('#search\\.keyword\\.query').send_keys(name)\n",
    "    driver.find_element_by_id('search.keyword.submit').click()\n",
    "    \n",
    "    time.sleep(3)\n",
    "\n",
    "    dong = re.findall(\"[가-힣0]{1,}동\", name)\n",
    "    dong_address.append(dong)\n",
    "    time.sleep(3)\n",
    "    driver.find_element_by_xpath('//*[@id=\"info.main.header.clear\"]').click()\n",
    "    \n",
    "    \n",
    "# df_seoul.to_csv(\"멋쟁이재민씨.csv\", encoding = \"euc-kr\")"
   ]
  },
  {
   "cell_type": "code",
   "execution_count": null,
   "metadata": {},
   "outputs": [],
   "source": []
  },
  {
   "cell_type": "code",
   "execution_count": null,
   "metadata": {},
   "outputs": [],
   "source": []
  },
  {
   "cell_type": "code",
   "execution_count": null,
   "metadata": {},
   "outputs": [],
   "source": []
  },
  {
   "cell_type": "code",
   "execution_count": null,
   "metadata": {},
   "outputs": [],
   "source": []
  }
 ],
 "metadata": {
  "kernelspec": {
   "display_name": "Python 3",
   "language": "python",
   "name": "python3"
  },
  "language_info": {
   "codemirror_mode": {
    "name": "ipython",
    "version": 3
   },
   "file_extension": ".py",
   "mimetype": "text/x-python",
   "name": "python",
   "nbconvert_exporter": "python",
   "pygments_lexer": "ipython3",
   "version": "3.8.3"
  }
 },
 "nbformat": 4,
 "nbformat_minor": 4
}
