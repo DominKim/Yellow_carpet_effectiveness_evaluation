{
 "cells": [
  {
   "cell_type": "code",
   "execution_count": 125,
   "metadata": {},
   "outputs": [],
   "source": [
    "import pandas as pd\n",
    "import re\n",
    "import numpy as np"
   ]
  },
  {
   "cell_type": "code",
   "execution_count": 126,
   "metadata": {},
   "outputs": [],
   "source": [
    "child = pd.read_csv(\"./data/전국어린이보호구역표준데이터.csv\", encoding = \"euc-kr\")"
   ]
  },
  {
   "cell_type": "code",
   "execution_count": 127,
   "metadata": {},
   "outputs": [],
   "source": [
    "idx_lst = []\n",
    "for idx in range(len(child)):\n",
    "    if \"서울\" in child[\"제공기관명\"][idx]:\n",
    "        idx_lst.append(idx)\n",
    "child = child.loc[idx_lst, :].reset_index(drop = True)\n",
    "child[\"옐로카펫_설치일자\"] = 0\n",
    "child[\"보호구역_지정년도\"] = 0"
   ]
  },
  {
   "cell_type": "code",
   "execution_count": 128,
   "metadata": {},
   "outputs": [
    {
     "data": {
      "text/html": [
       "<div>\n",
       "<style scoped>\n",
       "    .dataframe tbody tr th:only-of-type {\n",
       "        vertical-align: middle;\n",
       "    }\n",
       "\n",
       "    .dataframe tbody tr th {\n",
       "        vertical-align: top;\n",
       "    }\n",
       "\n",
       "    .dataframe thead th {\n",
       "        text-align: right;\n",
       "    }\n",
       "</style>\n",
       "<table border=\"1\" class=\"dataframe\">\n",
       "  <thead>\n",
       "    <tr style=\"text-align: right;\">\n",
       "      <th></th>\n",
       "      <th>시설종류</th>\n",
       "      <th>대상시설명</th>\n",
       "      <th>소재지도로명주소</th>\n",
       "      <th>소재지지번주소</th>\n",
       "      <th>위도</th>\n",
       "      <th>경도</th>\n",
       "      <th>관리기관명</th>\n",
       "      <th>관할경찰서명</th>\n",
       "      <th>CCTV설치여부</th>\n",
       "      <th>CCTV설치대수</th>\n",
       "      <th>보호구역도로폭</th>\n",
       "      <th>데이터기준일자</th>\n",
       "      <th>제공기관코드</th>\n",
       "      <th>제공기관명</th>\n",
       "      <th>옐로카펫_설치일자</th>\n",
       "      <th>보호구역_지정년도</th>\n",
       "    </tr>\n",
       "  </thead>\n",
       "  <tbody>\n",
       "    <tr>\n",
       "      <th>0</th>\n",
       "      <td>유치원</td>\n",
       "      <td>사랑</td>\n",
       "      <td>서울특별시 도봉구 마들로 620</td>\n",
       "      <td>NaN</td>\n",
       "      <td>37.665430</td>\n",
       "      <td>127.046669</td>\n",
       "      <td>도봉구청</td>\n",
       "      <td>도봉경찰서</td>\n",
       "      <td>Y</td>\n",
       "      <td>1.0</td>\n",
       "      <td>25</td>\n",
       "      <td>2019-09-05</td>\n",
       "      <td>3090000</td>\n",
       "      <td>서울특별시 도봉구</td>\n",
       "      <td>0</td>\n",
       "      <td>0</td>\n",
       "    </tr>\n",
       "    <tr>\n",
       "      <th>1</th>\n",
       "      <td>초등학교</td>\n",
       "      <td>매헌초등학교</td>\n",
       "      <td>서울특별시 서초구 언남길 8</td>\n",
       "      <td>서울특별시 서초구 양재2동 311-1</td>\n",
       "      <td>37.471048</td>\n",
       "      <td>127.042077</td>\n",
       "      <td>서울시 서초구</td>\n",
       "      <td>서초경찰서</td>\n",
       "      <td>Y</td>\n",
       "      <td>1.0</td>\n",
       "      <td>3</td>\n",
       "      <td>2019-06-03</td>\n",
       "      <td>3210000</td>\n",
       "      <td>서울특별시 서초구</td>\n",
       "      <td>0</td>\n",
       "      <td>0</td>\n",
       "    </tr>\n",
       "  </tbody>\n",
       "</table>\n",
       "</div>"
      ],
      "text/plain": [
       "   시설종류   대상시설명           소재지도로명주소               소재지지번주소         위도  \\\n",
       "0   유치원      사랑  서울특별시 도봉구 마들로 620                   NaN  37.665430   \n",
       "1  초등학교  매헌초등학교    서울특별시 서초구 언남길 8  서울특별시 서초구 양재2동 311-1  37.471048   \n",
       "\n",
       "           경도    관리기관명 관할경찰서명 CCTV설치여부  CCTV설치대수 보호구역도로폭     데이터기준일자   제공기관코드  \\\n",
       "0  127.046669     도봉구청  도봉경찰서        Y       1.0      25  2019-09-05  3090000   \n",
       "1  127.042077  서울시 서초구  서초경찰서        Y       1.0       3  2019-06-03  3210000   \n",
       "\n",
       "       제공기관명  옐로카펫_설치일자  보호구역_지정년도  \n",
       "0  서울특별시 도봉구          0          0  \n",
       "1  서울특별시 서초구          0          0  "
      ]
     },
     "execution_count": 128,
     "metadata": {},
     "output_type": "execute_result"
    }
   ],
   "source": [
    "child.head(2)"
   ]
  },
  {
   "cell_type": "code",
   "execution_count": 129,
   "metadata": {},
   "outputs": [
    {
     "name": "stderr",
     "output_type": "stream",
     "text": [
      "C:\\Users\\User\\anaconda3\\lib\\site-packages\\IPython\\core\\interactiveshell.py:3071: DtypeWarning: Columns (1,2,3,4,7) have mixed types.Specify dtype option on import or set low_memory=False.\n",
      "  has_raised = await self.run_ast_nodes(code_ast.body, cell_name,\n",
      "<ipython-input-129-1476859c5e41>:10: SettingWithCopyWarning: \n",
      "A value is trying to be set on a copy of a slice from a DataFrame\n",
      "\n",
      "See the caveats in the documentation: https://pandas.pydata.org/pandas-docs/stable/user_guide/indexing.html#returning-a-view-versus-a-copy\n",
      "  child[\"옐로카펫_설치일자\"][idx] = yellow[\"설치일자\"][idx2]\n",
      "C:\\Users\\User\\anaconda3\\lib\\site-packages\\pandas\\core\\indexing.py:671: SettingWithCopyWarning: \n",
      "A value is trying to be set on a copy of a slice from a DataFrame\n",
      "\n",
      "See the caveats in the documentation: https://pandas.pydata.org/pandas-docs/stable/user_guide/indexing.html#returning-a-view-versus-a-copy\n",
      "  self._setitem_with_indexer(indexer, value)\n"
     ]
    }
   ],
   "source": [
    "yellow = pd.read_csv(\"./옐로카펫 서울시 설치 현황(2020.2월 기준)_주소위도경도추가_최종.csv\", encoding = \"euc-kr\")\n",
    "yellow = yellow.dropna()\n",
    "\n",
    "\n",
    "# 옐로카펫 설치일자 추가\n",
    "try:\n",
    "    for idx in range(len(child)):\n",
    "        for idx2 in range(len(yellow)):\n",
    "            if child[\"대상시설명\"][idx] in yellow[\"설치위치(학교)\"][idx2]:\n",
    "                child[\"옐로카펫_설치일자\"][idx] = yellow[\"설치일자\"][idx2]\n",
    "except Exception as e:\n",
    "    print(e)"
   ]
  },
  {
   "cell_type": "code",
   "execution_count": 130,
   "metadata": {},
   "outputs": [
    {
     "name": "stderr",
     "output_type": "stream",
     "text": [
      "<ipython-input-130-ab30f2a79f40>:5: SettingWithCopyWarning: \n",
      "A value is trying to be set on a copy of a slice from a DataFrame\n",
      "\n",
      "See the caveats in the documentation: https://pandas.pydata.org/pandas-docs/stable/user_guide/indexing.html#returning-a-view-versus-a-copy\n",
      "  year[\"지정\"][idx] = re.findall(\"[0-9]{2}\", year[\"지정\"][idx])[0]\n"
     ]
    }
   ],
   "source": [
    "year = pd.read_csv(\"./서울_어린이보호구역_지정년도.csv\", encoding = \"euc-kr\")\n",
    "\n",
    "# 숫자만 추출\n",
    "for idx in range(len(year)):\n",
    "    year[\"지정\"][idx] = re.findall(\"[0-9]{2}\", year[\"지정\"][idx])[0]\n",
    "    \n",
    "year = year.iloc[:, :4]\n",
    "year.head(1)\n",
    "\n",
    "for idx in range(len(year)):\n",
    "    year.loc[idx, \"명칭\"] = re.findall(\"\\w{1,}\", year.loc[idx, \"명칭\"])[0]"
   ]
  },
  {
   "cell_type": "code",
   "execution_count": 131,
   "metadata": {},
   "outputs": [],
   "source": [
    "for idx in range(len(child)):\n",
    "    for idx2 in range(len(year)):\n",
    "        if year.loc[idx2, \"지역\"] in child.loc[idx, \"소재지도로명주소\"]:\n",
    "            if year.loc[idx2, \"명칭\"] in child.loc[idx, \"대상시설명\"]:\n",
    "                child.loc[idx, \"보호구역_지정년도\"] = year.loc[idx2, \"지정\"]"
   ]
  },
  {
   "cell_type": "code",
   "execution_count": 132,
   "metadata": {},
   "outputs": [],
   "source": [
    "child.to_csv(\"./어린이보호구역_최종.csv\", encoding = \"euc-kr\")"
   ]
  },
  {
   "cell_type": "code",
   "execution_count": 139,
   "metadata": {},
   "outputs": [
    {
     "data": {
      "text/plain": [
       "0       08\n",
       "1       08\n",
       "2       96\n",
       "3        0\n",
       "4       95\n",
       "        ..\n",
       "1539    12\n",
       "1540    13\n",
       "1541    15\n",
       "1542    15\n",
       "1543     0\n",
       "Name: 보호구역_지정년도, Length: 1544, dtype: object"
      ]
     },
     "execution_count": 139,
     "metadata": {},
     "output_type": "execute_result"
    }
   ],
   "source": [
    "child[\"보호구역_지정년도\"]"
   ]
  },
  {
   "cell_type": "code",
   "execution_count": null,
   "metadata": {},
   "outputs": [],
   "source": []
  },
  {
   "cell_type": "code",
   "execution_count": 135,
   "metadata": {},
   "outputs": [
    {
     "data": {
      "text/plain": [
       "(49, 16)"
      ]
     },
     "execution_count": 135,
     "metadata": {},
     "output_type": "execute_result"
    }
   ],
   "source": [
    "child[child[\"보호구역_지정년도\"] == 0].to_csv(\"./어린이보호구역_확인\")"
   ]
  }
 ],
 "metadata": {
  "kernelspec": {
   "display_name": "Python 3",
   "language": "python",
   "name": "python3"
  },
  "language_info": {
   "codemirror_mode": {
    "name": "ipython",
    "version": 3
   },
   "file_extension": ".py",
   "mimetype": "text/x-python",
   "name": "python",
   "nbconvert_exporter": "python",
   "pygments_lexer": "ipython3",
   "version": "3.8.3"
  }
 },
 "nbformat": 4,
 "nbformat_minor": 4
}
