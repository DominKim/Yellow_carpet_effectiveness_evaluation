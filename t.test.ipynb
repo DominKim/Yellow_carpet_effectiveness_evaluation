{
 "cells": [
  {
   "cell_type": "code",
   "execution_count": 1,
   "metadata": {},
   "outputs": [],
   "source": [
    "import pandas as pd\n",
    "import numpy as np\n",
    "\n"
   ]
  },
  {
   "cell_type": "code",
   "execution_count": 2,
   "metadata": {},
   "outputs": [],
   "source": [
    "df = pd.read_csv(\"./qgis_data/멋쟁이_수혜_재민_지현.csv\", encoding = \"euc-kr\")"
   ]
  },
  {
   "cell_type": "code",
   "execution_count": 3,
   "metadata": {},
   "outputs": [
    {
     "data": {
      "text/html": [
       "<div>\n",
       "<style scoped>\n",
       "    .dataframe tbody tr th:only-of-type {\n",
       "        vertical-align: middle;\n",
       "    }\n",
       "\n",
       "    .dataframe tbody tr th {\n",
       "        vertical-align: top;\n",
       "    }\n",
       "\n",
       "    .dataframe thead th {\n",
       "        text-align: right;\n",
       "    }\n",
       "</style>\n",
       "<table border=\"1\" class=\"dataframe\">\n",
       "  <thead>\n",
       "    <tr style=\"text-align: right;\">\n",
       "      <th></th>\n",
       "      <th>발생년</th>\n",
       "      <th>날짜</th>\n",
       "      <th>주야</th>\n",
       "      <th>요일</th>\n",
       "      <th>사망자수</th>\n",
       "      <th>사상자수</th>\n",
       "      <th>중상자수</th>\n",
       "      <th>경상자수</th>\n",
       "      <th>부상신고자</th>\n",
       "      <th>발생지시도</th>\n",
       "      <th>...</th>\n",
       "      <th>데이터기준</th>\n",
       "      <th>제공기관코</th>\n",
       "      <th>제공기관명</th>\n",
       "      <th>옐로카펫_</th>\n",
       "      <th>보호구역_</th>\n",
       "      <th>평균기온...</th>\n",
       "      <th>최저기온...</th>\n",
       "      <th>최고기온...</th>\n",
       "      <th>강수량.mm.</th>\n",
       "      <th>옐로카펫_설치유무</th>\n",
       "    </tr>\n",
       "  </thead>\n",
       "  <tbody>\n",
       "    <tr>\n",
       "      <th>0</th>\n",
       "      <td>2019</td>\n",
       "      <td>20190103</td>\n",
       "      <td>주</td>\n",
       "      <td>목</td>\n",
       "      <td>1</td>\n",
       "      <td>2</td>\n",
       "      <td>0</td>\n",
       "      <td>1</td>\n",
       "      <td>0</td>\n",
       "      <td>서울</td>\n",
       "      <td>...</td>\n",
       "      <td>2020-07-14</td>\n",
       "      <td>3100000</td>\n",
       "      <td>서울특별시 노원구</td>\n",
       "      <td>0</td>\n",
       "      <td>2</td>\n",
       "      <td>-3.5</td>\n",
       "      <td>-8.4</td>\n",
       "      <td>3.2</td>\n",
       "      <td>NaN</td>\n",
       "      <td>0</td>\n",
       "    </tr>\n",
       "    <tr>\n",
       "      <th>1</th>\n",
       "      <td>2019</td>\n",
       "      <td>20190108</td>\n",
       "      <td>야</td>\n",
       "      <td>화</td>\n",
       "      <td>1</td>\n",
       "      <td>1</td>\n",
       "      <td>0</td>\n",
       "      <td>0</td>\n",
       "      <td>0</td>\n",
       "      <td>서울</td>\n",
       "      <td>...</td>\n",
       "      <td>2020-01-01</td>\n",
       "      <td>3150000</td>\n",
       "      <td>서울특별시 강서구</td>\n",
       "      <td>0</td>\n",
       "      <td>97</td>\n",
       "      <td>-3.5</td>\n",
       "      <td>-7.2</td>\n",
       "      <td>0.5</td>\n",
       "      <td>NaN</td>\n",
       "      <td>0</td>\n",
       "    </tr>\n",
       "    <tr>\n",
       "      <th>2</th>\n",
       "      <td>2019</td>\n",
       "      <td>20190114</td>\n",
       "      <td>주</td>\n",
       "      <td>월</td>\n",
       "      <td>1</td>\n",
       "      <td>1</td>\n",
       "      <td>0</td>\n",
       "      <td>0</td>\n",
       "      <td>0</td>\n",
       "      <td>서울</td>\n",
       "      <td>...</td>\n",
       "      <td>2019-10-28</td>\n",
       "      <td>3160000</td>\n",
       "      <td>서울특별시 구로구</td>\n",
       "      <td>0</td>\n",
       "      <td>98</td>\n",
       "      <td>1.4</td>\n",
       "      <td>-2.4</td>\n",
       "      <td>5.3</td>\n",
       "      <td>NaN</td>\n",
       "      <td>0</td>\n",
       "    </tr>\n",
       "    <tr>\n",
       "      <th>3</th>\n",
       "      <td>2019</td>\n",
       "      <td>20190116</td>\n",
       "      <td>야</td>\n",
       "      <td>수</td>\n",
       "      <td>1</td>\n",
       "      <td>1</td>\n",
       "      <td>0</td>\n",
       "      <td>0</td>\n",
       "      <td>0</td>\n",
       "      <td>서울</td>\n",
       "      <td>...</td>\n",
       "      <td>2020-06-17</td>\n",
       "      <td>3030000</td>\n",
       "      <td>서울특별시 성동구</td>\n",
       "      <td>0</td>\n",
       "      <td>97</td>\n",
       "      <td>-5.2</td>\n",
       "      <td>-10.1</td>\n",
       "      <td>-1.1</td>\n",
       "      <td>0.0</td>\n",
       "      <td>0</td>\n",
       "    </tr>\n",
       "    <tr>\n",
       "      <th>4</th>\n",
       "      <td>2019</td>\n",
       "      <td>20190118</td>\n",
       "      <td>야</td>\n",
       "      <td>금</td>\n",
       "      <td>1</td>\n",
       "      <td>1</td>\n",
       "      <td>0</td>\n",
       "      <td>0</td>\n",
       "      <td>0</td>\n",
       "      <td>서울</td>\n",
       "      <td>...</td>\n",
       "      <td>2019-10-28</td>\n",
       "      <td>3160000</td>\n",
       "      <td>서울특별시 구로구</td>\n",
       "      <td>0</td>\n",
       "      <td>95</td>\n",
       "      <td>0.6</td>\n",
       "      <td>-4.6</td>\n",
       "      <td>6.7</td>\n",
       "      <td>NaN</td>\n",
       "      <td>0</td>\n",
       "    </tr>\n",
       "  </tbody>\n",
       "</table>\n",
       "<p>5 rows × 44 columns</p>\n",
       "</div>"
      ],
      "text/plain": [
       "    발생년        날짜 주야 요일  사망자수  사상자수  중상자수  경상자수  부상신고자 발생지시도  ...       데이터기준  \\\n",
       "0  2019  20190103  주  목     1     2     0     1      0    서울  ...  2020-07-14   \n",
       "1  2019  20190108  야  화     1     1     0     0      0    서울  ...  2020-01-01   \n",
       "2  2019  20190114  주  월     1     1     0     0      0    서울  ...  2019-10-28   \n",
       "3  2019  20190116  야  수     1     1     0     0      0    서울  ...  2020-06-17   \n",
       "4  2019  20190118  야  금     1     1     0     0      0    서울  ...  2019-10-28   \n",
       "\n",
       "     제공기관코      제공기관명 옐로카펫_ 보호구역_ 평균기온... 최저기온... 최고기온... 강수량.mm.  옐로카펫_설치유무  \n",
       "0  3100000  서울특별시 노원구     0     2    -3.5    -8.4     3.2     NaN          0  \n",
       "1  3150000  서울특별시 강서구     0    97    -3.5    -7.2     0.5     NaN          0  \n",
       "2  3160000  서울특별시 구로구     0    98     1.4    -2.4     5.3     NaN          0  \n",
       "3  3030000  서울특별시 성동구     0    97    -5.2   -10.1    -1.1     0.0          0  \n",
       "4  3160000  서울특별시 구로구     0    95     0.6    -4.6     6.7     NaN          0  \n",
       "\n",
       "[5 rows x 44 columns]"
      ]
     },
     "execution_count": 3,
     "metadata": {},
     "output_type": "execute_result"
    }
   ],
   "source": [
    "df.head(5)"
   ]
  },
  {
   "cell_type": "code",
   "execution_count": 5,
   "metadata": {},
   "outputs": [],
   "source": []
  },
  {
   "cell_type": "code",
   "execution_count": 21,
   "metadata": {},
   "outputs": [
    {
     "data": {
      "text/plain": [
       "[]"
      ]
     },
     "execution_count": 21,
     "metadata": {},
     "output_type": "execute_result"
    }
   ],
   "source": []
  },
  {
   "cell_type": "code",
   "execution_count": 29,
   "metadata": {},
   "outputs": [],
   "source": [
    "yellow_yes = {2019 : [], 2018: [], 2017 : [], 2016 : [], 2015 : []}\n",
    "yellow_no = {2019 : [], 2018: [], 2017 : [], 2016 : [], 2015 : []}\n",
    "\n",
    "cnt_2019_0_1= 0; cnt_2019_0_2 = 0; cnt_2019_0_3 = 0; cnt_2019_0_4 = 0\n",
    "cnt_2019_1_1= 0; cnt_2019_1_2 = 0; cnt_2019_1_3 = 0; cnt_2019_1_4 = 0\n",
    "\n",
    "cnt_2018_0_1= 0; cnt_2018_0_2 = 0; cnt_2018_0_3 = 0; cnt_2018_0_4 = 0\n",
    "cnt_2018_1_1= 0; cnt_2018_1_2 = 0; cnt_2018_1_3 = 0; cnt_2018_1_4 = 0\n",
    "\n",
    "cnt_2017_0_1= 0; cnt_2017_0_2 = 0; cnt_2017_0_3 = 0; cnt_2017_0_4 = 0\n",
    "cnt_2017_1_1= 0; cnt_2017_1_2 = 0; cnt_2017_1_3 = 0; cnt_2017_1_4 = 0\n",
    "\n",
    "cnt_2016_0_1= 0; cnt_2016_0_2 = 0; cnt_2016_0_3 = 0; cnt_2016_0_4 = 0\n",
    "cnt_2016_1_1= 0; cnt_2016_1_2 = 0; cnt_2016_1_3 = 0; cnt_2016_1_4 = 0\n",
    "\n",
    "cnt_2015_0_1= 0; cnt_2015_0_2 = 0; cnt_2015_0_3 = 0; cnt_2015_0_4 = 0\n",
    "cnt_2015_1_1= 0; cnt_2015_1_2 = 0; cnt_2015_1_3 = 0; cnt_2015_1_4 = 0\n",
    "\n",
    "for idx in range(len(df)):\n",
    "    if 20190100 <= df.loc[idx, '날짜'] <= 20190331:\n",
    "        if df.loc[idx, \"옐로카펫_설치유무\"] == 0:\n",
    "            cnt_2019_0_1 += 1\n",
    "        elif df.loc[idx, \"옐로카펫_설치유무\"] == 1:\n",
    "            cnt_2019_1_1 += 1\n",
    "    elif 20190400 <= df.loc[idx, \"날짜\"] <= 20190631:\n",
    "        if df.loc[idx, \"옐로카펫_설치유무\"] == 0:\n",
    "            cnt_2019_0_2 += 1\n",
    "        else:\n",
    "            cnt_2019_1_2 += 1\n",
    "            \n",
    "    elif 20190700 <= df.loc[idx, \"날짜\"] <= 20190931:\n",
    "        if df.loc[idx, \"옐로카펫_설치유무\"] == 0:\n",
    "            cnt_2019_0_3 += 1\n",
    "        else:\n",
    "            cnt_2019_1_3 += 1\n",
    "            \n",
    "    elif 20191000 <= df.loc[idx, \"날짜\"] <= 20191231:\n",
    "        if df.loc[idx, \"옐로카펫_설치유무\"] == 0:\n",
    "            cnt_2019_0_4 += 1\n",
    "        else:\n",
    "            cnt_2019_1_4 += 1\n",
    "            \n",
    "yellow_yes[2019].append(cnt_2019_0_1)\n",
    "yellow_yes[2019].append(cnt_2019_0_2)\n",
    "yellow_yes[2019].append(cnt_2019_0_3)\n",
    "yellow_yes[2019].append(cnt_2019_0_4)\n",
    "yellow_no[2019].append(cnt_2019_1_1)\n",
    "yellow_no[2019].append(cnt_2019_1_2)\n",
    "yellow_no[2019].append(cnt_2019_1_3)\n",
    "yellow_no[2019].append(cnt_2019_1_4)"
   ]
  },
  {
   "cell_type": "code",
   "execution_count": 30,
   "metadata": {},
   "outputs": [
    {
     "data": {
      "text/plain": [
       "[4, 4, 1, 5]"
      ]
     },
     "execution_count": 30,
     "metadata": {},
     "output_type": "execute_result"
    }
   ],
   "source": [
    "yellow_no[2019]"
   ]
  },
  {
   "cell_type": "code",
   "execution_count": 31,
   "metadata": {},
   "outputs": [],
   "source": [
    "for idx in range(len(df)):\n",
    "    if 20180100 <= df.loc[idx, '날짜'] <= 20180331:\n",
    "        if df.loc[idx, \"옐로카펫_설치유무\"] == 0:\n",
    "            cnt_2018_0_1 += 1\n",
    "        else:\n",
    "            cnt_2018_1_1 += 1\n",
    "    elif 20180400 <= df.loc[idx, \"날짜\"] <= 20180631:\n",
    "        if df.loc[idx, \"옐로카펫_설치유무\"] == 0:\n",
    "            cnt_2018_0_2 += 1\n",
    "        else:\n",
    "            cnt_2018_1_2 += 1\n",
    "            \n",
    "    elif 20180700 <= df.loc[idx, \"날짜\"] <= 20180931:\n",
    "        if df.loc[idx, \"옐로카펫_설치유무\"] == 0:\n",
    "            cnt_2018_0_3 += 1\n",
    "        else:\n",
    "            cnt_2018_1_3 += 1\n",
    "            \n",
    "    elif 20181000 <= df.loc[idx, \"날짜\"] <= 20181231:\n",
    "        if df.loc[idx, \"옐로카펫_설치유무\"] == 0:\n",
    "            cnt_2018_0_4 += 1\n",
    "        else:\n",
    "            cnt_2018_1_4 += 1\n",
    "            \n",
    "            \n",
    "yellow_yes[2018].append(cnt_2018_0_1)\n",
    "yellow_yes[2018].append(cnt_2018_0_2)\n",
    "yellow_yes[2018].append(cnt_2018_0_3)\n",
    "yellow_yes[2018].append(cnt_2018_0_4)\n",
    "yellow_no[2018].append(cnt_2018_1_1)\n",
    "yellow_no[2018].append(cnt_2018_1_2)\n",
    "yellow_no[2018].append(cnt_2018_1_3)\n",
    "yellow_no[2018].append(cnt_2018_1_4)"
   ]
  },
  {
   "cell_type": "code",
   "execution_count": 32,
   "metadata": {},
   "outputs": [],
   "source": [
    "for idx in range(len(df)):\n",
    "    if 20170100 <= df.loc[idx, '날짜'] <= 20170331:\n",
    "        if df.loc[idx, \"옐로카펫_설치유무\"] == 0:\n",
    "            cnt_2017_0_1 += 1\n",
    "        else:\n",
    "            cnt_2017_1_1 += 1\n",
    "    elif 20170400 <= df.loc[idx, \"날짜\"] <= 20170631:\n",
    "        if df.loc[idx, \"옐로카펫_설치유무\"] == 0:\n",
    "            cnt_2017_0_2 += 1\n",
    "        else:\n",
    "            cnt_2017_1_2 += 1\n",
    "            \n",
    "    elif 20170700 <= df.loc[idx, \"날짜\"] <= 20170931:\n",
    "        if df.loc[idx, \"옐로카펫_설치유무\"] == 0:\n",
    "            cnt_2017_0_3 += 1\n",
    "        else:\n",
    "            cnt_2017_1_3 += 1\n",
    "            \n",
    "    elif 20171000 <= df.loc[idx, \"날짜\"] <= 20171231:\n",
    "        if df.loc[idx, \"옐로카펫_설치유무\"] == 0:\n",
    "            cnt_2017_0_4 += 1\n",
    "        else:\n",
    "            cnt_2017_1_4 += 1\n",
    "            \n",
    "            \n",
    "yellow_yes[2017].append(cnt_2017_0_1)\n",
    "yellow_yes[2017].append(cnt_2017_0_2)\n",
    "yellow_yes[2017].append(cnt_2017_0_3)\n",
    "yellow_yes[2017].append(cnt_2017_0_4)\n",
    "yellow_no[2017].append(cnt_2017_1_1)\n",
    "yellow_no[2017].append(cnt_2017_1_2)\n",
    "yellow_no[2017].append(cnt_2017_1_3)\n",
    "yellow_no[2017].append(cnt_2017_1_4)"
   ]
  },
  {
   "cell_type": "code",
   "execution_count": 33,
   "metadata": {},
   "outputs": [],
   "source": [
    "for idx in range(len(df)):\n",
    "    if 20160100 <= df.loc[idx, '날짜'] <= 20160331:\n",
    "        if df.loc[idx, \"옐로카펫_설치유무\"] == 0:\n",
    "            cnt_2016_0_1 += 1\n",
    "        else:\n",
    "            cnt_2016_1_1 += 1\n",
    "    elif 20160400 <= df.loc[idx, \"날짜\"] <= 20160631:\n",
    "        if df.loc[idx, \"옐로카펫_설치유무\"] == 0:\n",
    "            cnt_2016_0_2 += 1\n",
    "        else:\n",
    "            cnt_2016_1_2 += 1\n",
    "            \n",
    "    elif 20160700 <= df.loc[idx, \"날짜\"] <= 20160931:\n",
    "        if df.loc[idx, \"옐로카펫_설치유무\"] == 0:\n",
    "            cnt_2016_0_3 += 1\n",
    "        else:\n",
    "            cnt_2016_1_3 += 1\n",
    "            \n",
    "    elif 20161000 <= df.loc[idx, \"날짜\"] <= 20161231:\n",
    "        if df.loc[idx, \"옐로카펫_설치유무\"] == 0:\n",
    "            cnt_2016_0_4 += 1\n",
    "        else:\n",
    "            cnt_2016_1_4 += 1\n",
    "            \n",
    "            \n",
    "yellow_yes[2016].append(cnt_2016_0_1)\n",
    "yellow_yes[2016].append(cnt_2016_0_2)\n",
    "yellow_yes[2016].append(cnt_2016_0_3)\n",
    "yellow_yes[2016].append(cnt_2016_0_4)\n",
    "yellow_no[2016].append(cnt_2016_1_1)\n",
    "yellow_no[2016].append(cnt_2016_1_2)\n",
    "yellow_no[2016].append(cnt_2016_1_3)\n",
    "yellow_no[2016].append(cnt_2016_1_4)"
   ]
  },
  {
   "cell_type": "code",
   "execution_count": 34,
   "metadata": {},
   "outputs": [],
   "source": [
    "for idx in range(len(df)):\n",
    "    if 20150100 <= df.loc[idx, '날짜'] <= 20150331:\n",
    "        if df.loc[idx, \"옐로카펫_설치유무\"] == 0:\n",
    "            cnt_2015_0_1 += 1\n",
    "        else:\n",
    "            cnt_2015_1_1 += 1\n",
    "    elif 20150400 <= df.loc[idx, \"날짜\"] <= 20150631:\n",
    "        if df.loc[idx, \"옐로카펫_설치유무\"] == 0:\n",
    "            cnt_2015_0_2 += 1\n",
    "        else:\n",
    "            cnt_2015_1_2 += 1\n",
    "            \n",
    "    elif 20150700 <= df.loc[idx, \"날짜\"] <= 20150931:\n",
    "        if df.loc[idx, \"옐로카펫_설치유무\"] == 0:\n",
    "            cnt_2015_0_3 += 1\n",
    "        else:\n",
    "            cnt_2015_1_3 += 1\n",
    "            \n",
    "    elif 20151000 <= df.loc[idx, \"날짜\"] <= 20151231:\n",
    "        if df.loc[idx, \"옐로카펫_설치유무\"] == 0:\n",
    "            cnt_2015_0_4 += 1\n",
    "        else:\n",
    "            cnt_2015_1_4 += 1\n",
    "            \n",
    "yellow_yes[2015].append(cnt_2015_0_1)\n",
    "yellow_yes[2015].append(cnt_2015_0_2)\n",
    "yellow_yes[2015].append(cnt_2015_0_3)\n",
    "yellow_yes[2015].append(cnt_2015_0_4)\n",
    "yellow_no[2015].append(cnt_2015_1_1)\n",
    "yellow_no[2015].append(cnt_2015_1_2)\n",
    "yellow_no[2015].append(cnt_2015_1_3)\n",
    "yellow_no[2015].append(cnt_2015_1_4)"
   ]
  },
  {
   "cell_type": "code",
   "execution_count": 35,
   "metadata": {
    "scrolled": true
   },
   "outputs": [
    {
     "data": {
      "text/plain": [
       "{2019: [27, 23, 33, 28],\n",
       " 2018: [41, 25, 38, 31],\n",
       " 2017: [43, 35, 36, 39],\n",
       " 2016: [46, 36, 50, 50],\n",
       " 2015: [40, 47, 39, 62]}"
      ]
     },
     "execution_count": 35,
     "metadata": {},
     "output_type": "execute_result"
    }
   ],
   "source": [
    "yellow_yes"
   ]
  },
  {
   "cell_type": "code",
   "execution_count": 36,
   "metadata": {},
   "outputs": [
    {
     "data": {
      "text/plain": [
       "{2019: [4, 4, 1, 5],\n",
       " 2018: [4, 3, 2, 7],\n",
       " 2017: [1, 4, 4, 3],\n",
       " 2016: [1, 0, 1, 4],\n",
       " 2015: [0, 0, 0, 0]}"
      ]
     },
     "execution_count": 36,
     "metadata": {},
     "output_type": "execute_result"
    }
   ],
   "source": [
    "yellow_no"
   ]
  },
  {
   "cell_type": "code",
   "execution_count": 47,
   "metadata": {},
   "outputs": [],
   "source": [
    "옐로우카펫_설치 = [27, 23, 33, 28, 41, 25, 38, 31, 43, 35, 36, 39, 46, 36, 50, 50, 40, 47, 39, 62]\n",
    "옐로우카펫_미설치 = [4, 4, 1, 5, 4, 3, 2, 7, 1, 4, 4, 3, 0, 0, 0, 0]"
   ]
  },
  {
   "cell_type": "code",
   "execution_count": 48,
   "metadata": {},
   "outputs": [],
   "source": [
    "from scipy import stats\n",
    "\n",
    "two_sample = stats.ttest_ind(옐로우카펫_설치, 옐로우카펫_미설치)"
   ]
  },
  {
   "cell_type": "code",
   "execution_count": 49,
   "metadata": {},
   "outputs": [
    {
     "data": {
      "text/plain": [
       "Ttest_indResult(statistic=14.603900420501379, pvalue=3.2683985533036324e-16)"
      ]
     },
     "execution_count": 49,
     "metadata": {},
     "output_type": "execute_result"
    }
   ],
   "source": [
    "two_sample"
   ]
  },
  {
   "cell_type": "code",
   "execution_count": 45,
   "metadata": {},
   "outputs": [],
   "source": [
    "옐로우카펫_설치.append(yellow_yes[2019][0:5])"
   ]
  },
  {
   "cell_type": "code",
   "execution_count": 46,
   "metadata": {},
   "outputs": [
    {
     "data": {
      "text/plain": [
       "[[27, 23, 33, 28]]"
      ]
     },
     "execution_count": 46,
     "metadata": {},
     "output_type": "execute_result"
    }
   ],
   "source": [
    "옐로우카펫_설치"
   ]
  },
  {
   "cell_type": "code",
   "execution_count": 37,
   "metadata": {},
   "outputs": [],
   "source": [
    "df2 = pd.DataFrame({\"옐로우카펫_설치\":[], \"옐로우카펫_미설치\":[]})"
   ]
  },
  {
   "cell_type": "code",
   "execution_count": null,
   "metadata": {},
   "outputs": [],
   "source": [
    "df"
   ]
  },
  {
   "cell_type": "code",
   "execution_count": null,
   "metadata": {},
   "outputs": [],
   "source": [
    "cnt_2018_0_1= 0; cnt_2018_0_2 = 0; cnt_2018_0_3 = 0; cnt_2018_0_4 = 0\n",
    "cnt_2018_1_1= 0; cnt_2018_1_2 = 0; cnt_2018_1_3 = 0; cnt_2018_1_4 = 0"
   ]
  },
  {
   "cell_type": "code",
   "execution_count": 50,
   "metadata": {},
   "outputs": [],
   "source": [
    "df = pd.read_csv(\"./data/전국CCTV표준데이터.csv\", encoding = \"euc-kr\")"
   ]
  },
  {
   "cell_type": "code",
   "execution_count": 56,
   "metadata": {},
   "outputs": [],
   "source": [
    "df[\"설치년월\"] = df[\"설치년월\"].str.replace(\"-\", \"\")"
   ]
  },
  {
   "cell_type": "code",
   "execution_count": 57,
   "metadata": {},
   "outputs": [
    {
     "name": "stdout",
     "output_type": "stream",
     "text": [
      "<class 'pandas.core.frame.DataFrame'>\n",
      "RangeIndex: 50000 entries, 0 to 49999\n",
      "Data columns (total 15 columns):\n",
      " #   Column    Non-Null Count  Dtype  \n",
      "---  ------    --------------  -----  \n",
      " 0   관리기관명     50000 non-null  object \n",
      " 1   소재지도로명주소  26786 non-null  object \n",
      " 2   소재지지번주소   45913 non-null  object \n",
      " 3   설치목적구분    50000 non-null  object \n",
      " 4   카메라대수     50000 non-null  int64  \n",
      " 5   카메라화소수    42509 non-null  float64\n",
      " 6   촬영방면정보    36046 non-null  object \n",
      " 7   보관일수      44175 non-null  float64\n",
      " 8   설치년월      36842 non-null  object \n",
      " 9   관리기관전화번호  50000 non-null  object \n",
      " 10  위도        50000 non-null  float64\n",
      " 11  경도        50000 non-null  float64\n",
      " 12  데이터기준일자   50000 non-null  object \n",
      " 13  제공기관코드    50000 non-null  object \n",
      " 14  제공기관명     50000 non-null  object \n",
      "dtypes: float64(4), int64(1), object(10)\n",
      "memory usage: 5.7+ MB\n"
     ]
    }
   ],
   "source": [
    "df.info()"
   ]
  },
  {
   "cell_type": "code",
   "execution_count": 59,
   "metadata": {},
   "outputs": [],
   "source": [
    "df = df.dropna()"
   ]
  },
  {
   "cell_type": "code",
   "execution_count": 60,
   "metadata": {},
   "outputs": [],
   "source": [
    "df.to_csv(\"./qgis_data/cctv_사용해야지.csv\", encoding = \"euc-kr\")"
   ]
  }
 ],
 "metadata": {
  "kernelspec": {
   "display_name": "Python 3",
   "language": "python",
   "name": "python3"
  },
  "language_info": {
   "codemirror_mode": {
    "name": "ipython",
    "version": 3
   },
   "file_extension": ".py",
   "mimetype": "text/x-python",
   "name": "python",
   "nbconvert_exporter": "python",
   "pygments_lexer": "ipython3",
   "version": "3.8.3"
  }
 },
 "nbformat": 4,
 "nbformat_minor": 4
}
