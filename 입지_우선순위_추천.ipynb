{
 "cells": [
  {
   "cell_type": "code",
   "execution_count": 1,
   "metadata": {},
   "outputs": [],
   "source": [
    "import pandas as pd\n",
    "import numpy as np\n",
    "import matplotlib.pyplot as plt\n",
    "from matplotlib import cm\n",
    "import seaborn as sns\n",
    "from sklearn.utils import check_random_state\n",
    "from sklearn.metrics import silhouette_samples, silhouette_score\n",
    "from sklearn.metrics.pairwise import euclidean_distances, manhattan_distances, cosine_similarity\n",
    "from sklearn.cluster import KMeans\n",
    "from sklearn.base import BaseEstimator\n",
    "from sklearn.preprocessing import StandardScaler, RobustScaler\n",
    "from scipy import stats"
   ]
  },
  {
   "cell_type": "code",
   "execution_count": 2,
   "metadata": {},
   "outputs": [],
   "source": [
    "df = pd.read_csv(\"./qgis_data/20200921/최종팩터화(수정).csv\", encoding = \"euc-kr\")"
   ]
  },
  {
   "cell_type": "code",
   "execution_count": 88,
   "metadata": {},
   "outputs": [],
   "source": [
    "df_0 = df[df[\"옐로카펫_설치유무\"] == 0]"
   ]
  },
  {
   "cell_type": "code",
   "execution_count": 89,
   "metadata": {},
   "outputs": [],
   "source": [
    "df_0.reset_index(drop = True, inplace = True)"
   ]
  },
  {
   "cell_type": "code",
   "execution_count": 90,
   "metadata": {},
   "outputs": [
    {
     "name": "stderr",
     "output_type": "stream",
     "text": [
      "C:\\Users\\User\\anaconda3\\lib\\site-packages\\pandas\\core\\indexing.py:966: SettingWithCopyWarning: \n",
      "A value is trying to be set on a copy of a slice from a DataFrame.\n",
      "Try using .loc[row_indexer,col_indexer] = value instead\n",
      "\n",
      "See the caveats in the documentation: https://pandas.pydata.org/pandas-docs/stable/user_guide/indexing.html#returning-a-view-versus-a-copy\n",
      "  self.obj[item] = s\n"
     ]
    }
   ],
   "source": [
    "df_0.loc[37, \"보호구역폭\"] = 12"
   ]
  },
  {
   "cell_type": "code",
   "execution_count": 91,
   "metadata": {},
   "outputs": [],
   "source": [
    "df_0 = df_0.dropna()"
   ]
  },
  {
   "cell_type": "code",
   "execution_count": 94,
   "metadata": {},
   "outputs": [],
   "source": []
  },
  {
   "cell_type": "code",
   "execution_count": 46,
   "metadata": {},
   "outputs": [],
   "source": [
    "use_lst = list(df.columns)[3:]"
   ]
  },
  {
   "cell_type": "code",
   "execution_count": 53,
   "metadata": {},
   "outputs": [],
   "source": [
    "df.loc[37, \"보호구역폭\"] = 12"
   ]
  },
  {
   "cell_type": "code",
   "execution_count": 69,
   "metadata": {},
   "outputs": [],
   "source": [
    "for idx in use_lst:\n",
    "    df[idx] = pd.to_numeric(df[idx],errors='coerce')"
   ]
  },
  {
   "cell_type": "code",
   "execution_count": 78,
   "metadata": {},
   "outputs": [],
   "source": [
    "a = df[df[\"옐로카펫_설치유무\"] == 1].agg(\"mean\")"
   ]
  },
  {
   "cell_type": "code",
   "execution_count": null,
   "metadata": {},
   "outputs": [],
   "source": [
    "df.index.values"
   ]
  },
  {
   "cell_type": "code",
   "execution_count": 103,
   "metadata": {},
   "outputs": [],
   "source": [
    "a[\"연도\"] = 2019"
   ]
  },
  {
   "cell_type": "code",
   "execution_count": 105,
   "metadata": {},
   "outputs": [],
   "source": [
    "a[\"날짜\"] = 20191216"
   ]
  },
  {
   "cell_type": "code",
   "execution_count": 106,
   "metadata": {},
   "outputs": [],
   "source": [
    "a[\"구\"] = \"강서구\""
   ]
  },
  {
   "cell_type": "code",
   "execution_count": 115,
   "metadata": {},
   "outputs": [],
   "source": [
    "b = pd.DataFrame(a).T"
   ]
  },
  {
   "cell_type": "code",
   "execution_count": 134,
   "metadata": {},
   "outputs": [],
   "source": [
    "real = pd.concat([df.iloc[:367,], b]).reset_index(drop = True)"
   ]
  },
  {
   "cell_type": "code",
   "execution_count": null,
   "metadata": {},
   "outputs": [],
   "source": [
    "recom_df = real.iloc[:, 3:]\n",
    "\n",
    "# 코사인 값 구하기\n",
    "cosine = cosine_similarity(recom_df, recom_df).argsort()[:,::-1]\n",
    "\n",
    "\n",
    "sim_index = 367\n",
    "# def get_recommend_list(df, name,  top = 30):\n",
    "#     # \n",
    "#     target_movie_index = df[df]\n",
    "    \n",
    "#     return result, new_df\n",
    "\n",
    "# a, p = get_recommend_list(recom_df, \"제넥신\")"
   ]
  },
  {
   "cell_type": "code",
   "execution_count": 204,
   "metadata": {},
   "outputs": [
    {
     "data": {
      "text/plain": [
       "array([[1.        , 0.88632222, 0.65735042, ..., 0.69765383, 0.74531684,\n",
       "        0.76255547],\n",
       "       [0.88632222, 1.        , 0.88095327, ..., 0.63004903, 0.80483241,\n",
       "        0.94400413],\n",
       "       [0.65735042, 0.88095327, 1.        , ..., 0.35958923, 0.86485504,\n",
       "        0.98022419],\n",
       "       ...,\n",
       "       [0.69765383, 0.63004903, 0.35958923, ..., 1.        , 0.53243571,\n",
       "        0.49994511],\n",
       "       [0.74531684, 0.80483241, 0.86485504, ..., 0.53243571, 1.        ,\n",
       "        0.89665335],\n",
       "       [0.76255547, 0.94400413, 0.98022419, ..., 0.49994511, 0.89665335,\n",
       "        1.        ]])"
      ]
     },
     "execution_count": 204,
     "metadata": {},
     "output_type": "execute_result"
    }
   ],
   "source": [
    "cosine_similarity(real.iloc[:,3:], real.iloc[:,3:])"
   ]
  },
  {
   "cell_type": "code",
   "execution_count": 157,
   "metadata": {},
   "outputs": [],
   "source": [
    "real = real.dropna().reset_index(drop = True)\n",
    "cosine = cosine_similarity(real.iloc[:,3:], real.iloc[:,3:]).argsort()[:,::-1]\n",
    "\n",
    "sim_index = cosine[361, :30].reshape(-1)\n",
    "sim_index = sim_index[sim_index != 361]\n",
    "\n",
    "z = real.iloc[sim_index, :].reset_index(drop = True)"
   ]
  },
  {
   "cell_type": "code",
   "execution_count": 150,
   "metadata": {},
   "outputs": [],
   "source": [
    "check_df = pd.read_csv(\"./qgis_data/without_2019_from_2018_to_2012(수정).csv\", encoding = \"euc-kr\")"
   ]
  },
  {
   "cell_type": "code",
   "execution_count": null,
   "metadata": {
    "scrolled": true
   },
   "outputs": [],
   "source": [
    "# 날짜, 구, 대상시설명\n",
    "check_df.info()"
   ]
  },
  {
   "cell_type": "code",
   "execution_count": null,
   "metadata": {},
   "outputs": [],
   "source": [
    "name = []\n",
    "for idx in range(len(df)):\n",
    "    ch = z.iloc[idx, :]\n",
    "    d = check_df[(check_df[\"날짜\"] == int(ch[\"날짜\"])) & (check_df[\"구\"] == ch[\"구\"]) & (check_df[\"옐로카펫_\"] == 0)]\n",
    "    name.append(list(d[\"대상시설명\"].values))"
   ]
  },
  {
   "cell_type": "code",
   "execution_count": 200,
   "metadata": {},
   "outputs": [],
   "source": [
    "check_name = []\n",
    "for lst in name:\n",
    "    for i in lst:\n",
    "        check_name.append(i)"
   ]
  },
  {
   "cell_type": "code",
   "execution_count": 203,
   "metadata": {},
   "outputs": [
    {
     "data": {
      "text/plain": [
       "['예진유치원',\n",
       " '용원초교',\n",
       " '상원초교',\n",
       " '대원유치원',\n",
       " '신상계초교',\n",
       " '무지개유치원',\n",
       " '신상계병설유치원',\n",
       " '동화나라유치원',\n",
       " '덕암초교',\n",
       " '청룡유치원',\n",
       " '아동회관어린이집',\n",
       " '상천초교',\n",
       " '행응어린이집',\n",
       " '세성유치원',\n",
       " '율화유치원']"
      ]
     },
     "execution_count": 203,
     "metadata": {},
     "output_type": "execute_result"
    }
   ],
   "source": [
    "check_name[:15]\n",
    "\n",
    "# (\"대상시설명\" = '예진유치원') OR \n",
    "# (\"대상시설명\" = '용원초교') OR (\"대상시설명\" = '상원초교') \n",
    "# OR (\"대상시설명\" = '대원유치원') OR (\"대상시설명\" = '신상계초교') OR \n",
    "# (\"대상시설명\" = '무지개유치원') OR (\"대상시설명\" = '신상계병설유치원') OR \n",
    "# (\"대상시설명\" = '동화나라유치원') OR \n",
    "# (\"대상시설명\" = '덕암초교') OR (\"대상시설명\" = '청룡유치원')"
   ]
  },
  {
   "cell_type": "code",
   "execution_count": 169,
   "metadata": {},
   "outputs": [
    {
     "data": {
      "text/html": [
       "<div>\n",
       "<style scoped>\n",
       "    .dataframe tbody tr th:only-of-type {\n",
       "        vertical-align: middle;\n",
       "    }\n",
       "\n",
       "    .dataframe tbody tr th {\n",
       "        vertical-align: top;\n",
       "    }\n",
       "\n",
       "    .dataframe thead th {\n",
       "        text-align: right;\n",
       "    }\n",
       "</style>\n",
       "<table border=\"1\" class=\"dataframe\">\n",
       "  <thead>\n",
       "    <tr style=\"text-align: right;\">\n",
       "      <th></th>\n",
       "      <th>발생년</th>\n",
       "      <th>날짜</th>\n",
       "      <th>주야</th>\n",
       "      <th>요일</th>\n",
       "      <th>사망자수</th>\n",
       "      <th>사상자수</th>\n",
       "      <th>중상자수</th>\n",
       "      <th>경상자수</th>\n",
       "      <th>부상신고자</th>\n",
       "      <th>발생지시도</th>\n",
       "      <th>...</th>\n",
       "      <th>데이터기준</th>\n",
       "      <th>제공기관코</th>\n",
       "      <th>제공기관명</th>\n",
       "      <th>옐로카펫_</th>\n",
       "      <th>보호구역_</th>\n",
       "      <th>평균기온(℃)</th>\n",
       "      <th>최저기온(℃)</th>\n",
       "      <th>최고기온(℃)</th>\n",
       "      <th>강수량(mm)</th>\n",
       "      <th>옐로카펫_설치유무</th>\n",
       "    </tr>\n",
       "  </thead>\n",
       "  <tbody>\n",
       "    <tr>\n",
       "      <th>714</th>\n",
       "      <td>2017</td>\n",
       "      <td>20170506</td>\n",
       "      <td>야간</td>\n",
       "      <td>토</td>\n",
       "      <td>1</td>\n",
       "      <td>1</td>\n",
       "      <td>0</td>\n",
       "      <td>0</td>\n",
       "      <td>0</td>\n",
       "      <td>서울</td>\n",
       "      <td>...</td>\n",
       "      <td>2020-02-28</td>\n",
       "      <td>3070000</td>\n",
       "      <td>서울특별시 성북구</td>\n",
       "      <td>0</td>\n",
       "      <td>95</td>\n",
       "      <td>14.9</td>\n",
       "      <td>10.0</td>\n",
       "      <td>19.3</td>\n",
       "      <td>NaN</td>\n",
       "      <td>0</td>\n",
       "    </tr>\n",
       "    <tr>\n",
       "      <th>715</th>\n",
       "      <td>2017</td>\n",
       "      <td>20170506</td>\n",
       "      <td>야간</td>\n",
       "      <td>토</td>\n",
       "      <td>1</td>\n",
       "      <td>1</td>\n",
       "      <td>0</td>\n",
       "      <td>0</td>\n",
       "      <td>0</td>\n",
       "      <td>서울</td>\n",
       "      <td>...</td>\n",
       "      <td>2020-02-28</td>\n",
       "      <td>3070000</td>\n",
       "      <td>서울특별시 성북구</td>\n",
       "      <td>0</td>\n",
       "      <td>95</td>\n",
       "      <td>14.9</td>\n",
       "      <td>10.0</td>\n",
       "      <td>19.3</td>\n",
       "      <td>NaN</td>\n",
       "      <td>0</td>\n",
       "    </tr>\n",
       "  </tbody>\n",
       "</table>\n",
       "<p>2 rows × 44 columns</p>\n",
       "</div>"
      ],
      "text/plain": [
       "      발생년        날짜  주야 요일  사망자수  사상자수  중상자수  경상자수  부상신고자 발생지시도  ...  \\\n",
       "714  2017  20170506  야간  토     1     1     0     0      0    서울  ...   \n",
       "715  2017  20170506  야간  토     1     1     0     0      0    서울  ...   \n",
       "\n",
       "          데이터기준    제공기관코      제공기관명 옐로카펫_ 보호구역_ 평균기온(℃) 최저기온(℃) 최고기온(℃)  \\\n",
       "714  2020-02-28  3070000  서울특별시 성북구     0    95    14.9    10.0    19.3   \n",
       "715  2020-02-28  3070000  서울특별시 성북구     0    95    14.9    10.0    19.3   \n",
       "\n",
       "    강수량(mm)  옐로카펫_설치유무  \n",
       "714     NaN          0  \n",
       "715     NaN          0  \n",
       "\n",
       "[2 rows x 44 columns]"
      ]
     },
     "execution_count": 169,
     "metadata": {},
     "output_type": "execute_result"
    }
   ],
   "source": [
    "check_df[check_df[\"날짜\"] == int(ch[\"날짜\"])]"
   ]
  },
  {
   "cell_type": "code",
   "execution_count": 168,
   "metadata": {},
   "outputs": [
    {
     "data": {
      "text/html": [
       "<div>\n",
       "<style scoped>\n",
       "    .dataframe tbody tr th:only-of-type {\n",
       "        vertical-align: middle;\n",
       "    }\n",
       "\n",
       "    .dataframe tbody tr th {\n",
       "        vertical-align: top;\n",
       "    }\n",
       "\n",
       "    .dataframe thead th {\n",
       "        text-align: right;\n",
       "    }\n",
       "</style>\n",
       "<table border=\"1\" class=\"dataframe\">\n",
       "  <thead>\n",
       "    <tr style=\"text-align: right;\">\n",
       "      <th></th>\n",
       "      <th>발생년</th>\n",
       "      <th>날짜</th>\n",
       "      <th>주야</th>\n",
       "      <th>요일</th>\n",
       "      <th>사망자수</th>\n",
       "      <th>사상자수</th>\n",
       "      <th>중상자수</th>\n",
       "      <th>경상자수</th>\n",
       "      <th>부상신고자</th>\n",
       "      <th>발생지시도</th>\n",
       "      <th>...</th>\n",
       "      <th>데이터기준</th>\n",
       "      <th>제공기관코</th>\n",
       "      <th>제공기관명</th>\n",
       "      <th>옐로카펫_</th>\n",
       "      <th>보호구역_</th>\n",
       "      <th>평균기온(℃)</th>\n",
       "      <th>최저기온(℃)</th>\n",
       "      <th>최고기온(℃)</th>\n",
       "      <th>강수량(mm)</th>\n",
       "      <th>옐로카펫_설치유무</th>\n",
       "    </tr>\n",
       "  </thead>\n",
       "  <tbody>\n",
       "    <tr>\n",
       "      <th>714</th>\n",
       "      <td>2017</td>\n",
       "      <td>20170506</td>\n",
       "      <td>야간</td>\n",
       "      <td>토</td>\n",
       "      <td>1</td>\n",
       "      <td>1</td>\n",
       "      <td>0</td>\n",
       "      <td>0</td>\n",
       "      <td>0</td>\n",
       "      <td>서울</td>\n",
       "      <td>...</td>\n",
       "      <td>2020-02-28</td>\n",
       "      <td>3070000</td>\n",
       "      <td>서울특별시 성북구</td>\n",
       "      <td>0</td>\n",
       "      <td>95</td>\n",
       "      <td>14.9</td>\n",
       "      <td>10.0</td>\n",
       "      <td>19.3</td>\n",
       "      <td>NaN</td>\n",
       "      <td>0</td>\n",
       "    </tr>\n",
       "    <tr>\n",
       "      <th>715</th>\n",
       "      <td>2017</td>\n",
       "      <td>20170506</td>\n",
       "      <td>야간</td>\n",
       "      <td>토</td>\n",
       "      <td>1</td>\n",
       "      <td>1</td>\n",
       "      <td>0</td>\n",
       "      <td>0</td>\n",
       "      <td>0</td>\n",
       "      <td>서울</td>\n",
       "      <td>...</td>\n",
       "      <td>2020-02-28</td>\n",
       "      <td>3070000</td>\n",
       "      <td>서울특별시 성북구</td>\n",
       "      <td>0</td>\n",
       "      <td>95</td>\n",
       "      <td>14.9</td>\n",
       "      <td>10.0</td>\n",
       "      <td>19.3</td>\n",
       "      <td>NaN</td>\n",
       "      <td>0</td>\n",
       "    </tr>\n",
       "  </tbody>\n",
       "</table>\n",
       "<p>2 rows × 44 columns</p>\n",
       "</div>"
      ],
      "text/plain": [
       "      발생년        날짜  주야 요일  사망자수  사상자수  중상자수  경상자수  부상신고자 발생지시도  ...  \\\n",
       "714  2017  20170506  야간  토     1     1     0     0      0    서울  ...   \n",
       "715  2017  20170506  야간  토     1     1     0     0      0    서울  ...   \n",
       "\n",
       "          데이터기준    제공기관코      제공기관명 옐로카펫_ 보호구역_ 평균기온(℃) 최저기온(℃) 최고기온(℃)  \\\n",
       "714  2020-02-28  3070000  서울특별시 성북구     0    95    14.9    10.0    19.3   \n",
       "715  2020-02-28  3070000  서울특별시 성북구     0    95    14.9    10.0    19.3   \n",
       "\n",
       "    강수량(mm)  옐로카펫_설치유무  \n",
       "714     NaN          0  \n",
       "715     NaN          0  \n",
       "\n",
       "[2 rows x 44 columns]"
      ]
     },
     "execution_count": 168,
     "metadata": {},
     "output_type": "execute_result"
    }
   ],
   "source": [
    "check_df[check_df[\"날짜\"] == 20170506]"
   ]
  },
  {
   "cell_type": "code",
   "execution_count": null,
   "metadata": {},
   "outputs": [],
   "source": []
  }
 ],
 "metadata": {
  "kernelspec": {
   "display_name": "Python 3",
   "language": "python",
   "name": "python3"
  },
  "language_info": {
   "codemirror_mode": {
    "name": "ipython",
    "version": 3
   },
   "file_extension": ".py",
   "mimetype": "text/x-python",
   "name": "python",
   "nbconvert_exporter": "python",
   "pygments_lexer": "ipython3",
   "version": "3.8.3"
  }
 },
 "nbformat": 4,
 "nbformat_minor": 4
}
